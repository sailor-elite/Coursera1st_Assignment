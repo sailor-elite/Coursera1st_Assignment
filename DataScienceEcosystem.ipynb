{
 "cells": [
  {
   "cell_type": "markdown",
   "id": "757ec2a9-7b69-4c3e-bb9d-005298d84a89",
   "metadata": {},
   "source": [
    "## Data Science Tools and Ecosystem"
   ]
  },
  {
   "cell_type": "markdown",
   "id": "5ae2184a-ae1a-43ec-847d-317f95d3a575",
   "metadata": {},
   "source": [
    "## In this notebook, Data Science Tools and Ecosystem are summarized.\n",
    "\n"
   ]
  },
  {
   "cell_type": "markdown",
   "id": "310f983f-65c6-4200-857d-af5615be7292",
   "metadata": {},
   "source": [
    "**Objectives:**\n",
    "<li>List popular languages that Data Scientists use.</li>\n",
    "<li>List commonly used libraries used by Data Scientists.</li>\n",
    "<li>Comment on Data Science tools.</li>"
   ]
  },
  {
   "cell_type": "markdown",
   "id": "227e6732-cef0-4b73-9d3e-2a0b72c57f41",
   "metadata": {},
   "source": [
    "### Some of the popular languages that Data Scientists use are:"
   ]
  },
  {
   "cell_type": "markdown",
   "id": "30da3c14-2755-4b96-a09f-f20625a2e54a",
   "metadata": {},
   "source": [
    "<ol>\n",
    "    <li>Python</li> \n",
    "    <li>R</li>\n",
    "    <li>SQL</li>\n",
    "</ol>"
   ]
  },
  {
   "cell_type": "markdown",
   "id": "34c92e5a-dce3-4470-bdd8-3def3db74f45",
   "metadata": {},
   "source": [
    "### Some of the commonly used libraries used by Data Scientists include:\n"
   ]
  },
  {
   "cell_type": "markdown",
   "id": "af8ec721-f8d8-4766-8d29-b515ea2395cb",
   "metadata": {},
   "source": [
    "<ol>\n",
    "    <li>Pandas</li> \n",
    "    <li>Numpy</li>\n",
    "    <li>Matplotlib</li>\n",
    "</ol>"
   ]
  },
  {
   "cell_type": "markdown",
   "id": "239dc40d-c04e-4d50-bdf5-d7f5afab5010",
   "metadata": {},
   "source": [
    "| Data Science Tools| \n",
    "| -------- | \n",
    "| Jupyter Notebooks| \n",
    "| R Studio| \n",
    "| Anaconda|    \n"
   ]
  },
  {
   "cell_type": "markdown",
   "id": "5f886f24-52df-4bbb-a15f-8e448ebdacaf",
   "metadata": {},
   "source": [
    "### Below are a few examples of evaluating arithmetic expressions in Python.\n",
    "\n"
   ]
  },
  {
   "cell_type": "code",
   "execution_count": 3,
   "id": "0a4e351c-ee48-44a8-82e7-a3ca50e0b9f7",
   "metadata": {},
   "outputs": [
    {
     "data": {
      "text/plain": [
       "9"
      ]
     },
     "execution_count": 3,
     "metadata": {},
     "output_type": "execute_result"
    }
   ],
   "source": [
    "code = compile(\"5 + 4\", \"<string>\", \"eval\")\n",
    "eval(code)"
   ]
  },
  {
   "cell_type": "code",
   "execution_count": 4,
   "id": "72955dc8-b540-4720-9c6d-5c435358efe3",
   "metadata": {},
   "outputs": [
    {
     "data": {
      "text/plain": [
       "24"
      ]
     },
     "execution_count": 4,
     "metadata": {},
     "output_type": "execute_result"
    }
   ],
   "source": [
    "code1 = compile(\"(5 + 7) * 2\", \"<string>\", \"eval\")\n",
    "eval(code1)"
   ]
  },
  {
   "cell_type": "code",
   "execution_count": 6,
   "id": "7814f849-3a11-491a-9dd7-2fc234608158",
   "metadata": {
    "scrolled": true
   },
   "outputs": [
    {
     "data": {
      "text/plain": [
       "65449.84694978735"
      ]
     },
     "execution_count": 6,
     "metadata": {},
     "output_type": "execute_result"
    }
   ],
   "source": [
    "import math\n",
    "code2 = compile(\"4 / 3 * math.pi * math.pow(25, 3)\", \"<string>\", \"eval\")\n",
    "eval(code2)"
   ]
  },
  {
   "cell_type": "markdown",
   "id": "0a7d1cdf-3c4d-4e03-be92-71f9fb74e87f",
   "metadata": {},
   "source": [
    "### This a simple arithmetic expression to mutiply then add integers"
   ]
  },
  {
   "cell_type": "code",
   "execution_count": 7,
   "id": "3b24a8e2-9591-47b6-ba2f-fa3c85ad1df4",
   "metadata": {},
   "outputs": [
    {
     "data": {
      "text/plain": [
       "17"
      ]
     },
     "execution_count": 7,
     "metadata": {},
     "output_type": "execute_result"
    }
   ],
   "source": [
    "(3*4)+5"
   ]
  },
  {
   "cell_type": "markdown",
   "id": "89eb80e6-617c-4a36-9aa0-b5852ac5e591",
   "metadata": {},
   "source": [
    "### This will convert 200 minutes to hours by diving by 60"
   ]
  },
  {
   "cell_type": "code",
   "execution_count": 13,
   "id": "e16ca57c-f2cd-4c1c-8777-2415e858dc9b",
   "metadata": {},
   "outputs": [
    {
     "name": "stdout",
     "output_type": "stream",
     "text": [
      "3.33\n"
     ]
    }
   ],
   "source": [
    "minutes = 200\n",
    "hours = round((minutes/60),2)\n",
    "print(hours)"
   ]
  },
  {
   "cell_type": "markdown",
   "id": "2ab0d82f-1384-4f26-a107-6c07d879422d",
   "metadata": {},
   "source": [
    "## Author\n",
    "#### Jakub B."
   ]
  },
  {
   "cell_type": "code",
   "execution_count": null,
   "id": "a90c36f5-fc1f-4c35-a168-68e0e80bf56a",
   "metadata": {},
   "outputs": [],
   "source": []
  }
 ],
 "metadata": {
  "kernelspec": {
   "display_name": "Python 3 (ipykernel)",
   "language": "python",
   "name": "python3"
  },
  "language_info": {
   "codemirror_mode": {
    "name": "ipython",
    "version": 3
   },
   "file_extension": ".py",
   "mimetype": "text/x-python",
   "name": "python",
   "nbconvert_exporter": "python",
   "pygments_lexer": "ipython3",
   "version": "3.12.8"
  }
 },
 "nbformat": 4,
 "nbformat_minor": 5
}
